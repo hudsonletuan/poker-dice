{
 "cells": [
  {
   "cell_type": "markdown",
   "metadata": {
    "collapsed": false,
    "deletable": false,
    "editable": false,
    "nbgrader": {
     "grade": false,
     "grade_id": "7705aa",
     "locked": true,
     "schema_version": 3,
     "solution": false,
     "task": false
    }
   },
   "source": [
    "# Poker Dice\n",
    "\n",
    "## Game mechanics\n",
    "\n",
    "In the game of Poker Dice, two players each roll a hand of five standard (cubical or d6) dice. The goal is to have the highest ranking hand. Hand ranks are as follows, from low to high.\n",
    "\n",
    "0. Nothing\n",
    "2. One pair\n",
    "3. Two pair (but not a full house)\n",
    "4. Three of a kind (without an accompanying pair)\n",
    "5. Short straight (either 1, 2, 3, 4 or 2, 3, 4, 5 or 3, 4, 5, 6 (other value irrelevant))\n",
    "6. Straight (either 1, 2, 3, 4, 5 or 2, 3, 4, 5, 6)\n",
    "7. Full house (three of a kind plus one pair)\n",
    "8. Four of a kind (other value irrelevant)\n",
    "9. Five of a kind\n",
    "\n",
    "After the initial roll, each player may reroll *any of the dice* in their hand (whichever ones they choose). There are two rounds of rerolls and then the highest hand wins."
   ]
  },
  {
   "cell_type": "markdown",
   "metadata": {
    "collapsed": false,
    "deletable": false,
    "editable": false,
    "nbgrader": {
     "grade": false,
     "grade_id": "da2d68",
     "locked": true,
     "schema_version": 3,
     "solution": false,
     "task": false
    }
   },
   "source": [
    "## Setup\n"
   ]
  },
  {
   "cell_type": "code",
   "execution_count": null,
   "metadata": {
    "collapsed": false,
    "deletable": false,
    "editable": false,
    "nbgrader": {
     "grade": true,
     "grade_id": "89aa20",
     "locked": true,
     "points": 1,
     "remove": false,
     "schema_version": 3,
     "solution": false,
     "task": false
    }
   },
   "outputs": [],
   "source": [
    "import os.path\n",
    "assert(os.path.isfile(\"PokerDiceHand.py\"))\n",
    "\n",
    "from PokerDiceHand import MSDie\n",
    "from PokerDiceHand import Hand\n",
    "from PokerDiceHand import PokerDiceHand\n",
    "\n",
    "MSDie(6) # Constructor will raise exception if class is ill-defined\n",
    "Hand(6, 6)\n",
    "PokerDiceHand()"
   ]
  },
  {
   "cell_type": "code",
   "execution_count": null,
   "metadata": {
    "collapsed": false,
    "deletable": false,
    "nbgrader": {
     "checksum": "e4a53ab205d7fa616629e81923eb8b59",
     "grade": false,
     "grade_id": "d6358a",
     "locked": false,
     "schema_version": 3,
     "solution": true,
     "task": false
    }
   },
   "outputs": [],
   "source": [
    "class Player(PokerDiceHand):\n",
    "    def __init__(self, name):\n",
    "        \"\"\"\n",
    "        Initializes the player's PokerDiceHand (self.hand) and name (self.name).\n",
    "        \"\"\"\n",
    "        \n",
    "        self.hand = PokerDiceHand()\n",
    "        self.name = name\n",
    "        \n",
    "    def __str__(self):\n",
    "        \"\"\"\n",
    "        Return a string representation of the player's hand. Specifically, returns\n",
    "        a string containing an announcement, followed by the 5 values, separated \n",
    "        by spaces: \"Player 1's hand: 1 3 5 4 2\", e.g. Use the player's name in the\n",
    "        announcement.\n",
    "        \"\"\"\n",
    "\n",
    "        return f\"{self.name}'s hand: {self.hand}\"\n",
    "        \n",
    "    def prompt_for_reroll(self):\n",
    "        \"\"\"\n",
    "        Prompt the user for input to determine if a reroll will occur. The prompt\n",
    "        string should look like:\n",
    "        \"Player 1, enter the dice to reroll (e.g., '134') or p to pass: \"\n",
    "        Make sure to use the player's name and to leave one space inside the string\n",
    "        after the `:`. \n",
    "        \n",
    "        Return a list of the values the player entered, but as `int`s, not `str`s.\n",
    "        If the player chooses `p` to pass, return None.\n",
    "        \"\"\"\n",
    "\n",
    "        choice = input(f\"{self.name}, enter the dice to reroll (e.g., '134') or p to pass: \")\n",
    "        list(choice)\n",
    "        lst = []\n",
    "        if choice.lower() != \"p\":\n",
    "            for i in choice:\n",
    "                lst.append(int(i))\n",
    "        return lst\n",
    "#            return [int(i) for i in choice]"
   ]
  },
  {
   "cell_type": "code",
   "execution_count": null,
   "metadata": {
    "collapsed": false,
    "deletable": false,
    "editable": false,
    "nbgrader": {
     "grade": true,
     "grade_id": "d90c36",
     "locked": true,
     "points": 1,
     "schema_version": 3,
     "solution": false,
     "task": false
    }
   },
   "outputs": [],
   "source": [
    "# Check that __init__ does what it is supposed to do.\n",
    "from nose.tools import assert_equal\n",
    "p = Player(\"Philip J. Fry\")\n",
    "assert_equal(type(p.hand), type(PokerDiceHand()))\n",
    "assert_equal(p.name, \"Philip J. Fry\")\n",
    "\n",
    "# Check that show_hand does what it is supposed to do.\n",
    "dice = [MSDie(6) for _ in range(5)]\n",
    "values = [5, 6, 2, 3, 3]\n",
    "for i, x in enumerate(dice):\n",
    "    x.current_value = values[i]\n",
    "p.hand.dice = dice\n",
    "assert_equal(str(p), f\"Philip J. Fry's hand: {p.hand}\")"
   ]
  },
  {
   "cell_type": "code",
   "execution_count": null,
   "metadata": {
    "collapsed": false,
    "deletable": false,
    "nbgrader": {
     "checksum": "c55caa0f5f82ffe7859cda786231b51d",
     "grade": false,
     "grade_id": "a39a42",
     "locked": false,
     "schema_version": 3,
     "solution": true,
     "task": false
    }
   },
   "outputs": [],
   "source": [
    "class Game():\n",
    "\n",
    "    def __init__(self):\n",
    "        \"\"\"\n",
    "        Setup a Game object. The Game object has just one attribute,\n",
    "        self.players. This is a list containing two Player objects, representing\n",
    "        the two players of the game. We could just have the players separately,\n",
    "        but in coding the rest of the class, it's convenient to have a list. Name\n",
    "        the two players \"Player 1\" and \"Player 2\".\n",
    "        \n",
    "        Notice that when the Player objects are created, the Player class's constructor\n",
    "        (which was already written in the cell above) generates their PokerDiceHands, so\n",
    "        we don't need to do that here.\n",
    "        \"\"\"\n",
    "\n",
    "        self.players = [Player(\"Player 1\"), Player(\"Player 2\")]\n",
    "\n",
    "    def play(self):\n",
    "        \"\"\"\n",
    "\n",
    "        This method manages the game: printing appropriate messages to the\n",
    "        screen, keeping track of rerolls (which it receives from the Player objects),\n",
    "        delegating the rerolls to the PokerDiceHand objects, fetching the ranks of\n",
    "        the PokerDiceHand objects, comparing them, and announcing the results. It \n",
    "        should allow the users to play more games indefinitely, so use a `while` loop \n",
    "        to keep starting new games until the answer to the \"Play again?\" prompt is 'n'.\n",
    "        (Consult the sample output for reference.)\n",
    "        \"\"\"\n",
    "\n",
    "        replay = \"y\"\n",
    "        while replay == \"y\":\n",
    "            self.players[0].hand.roll()\n",
    "            self.players[1].hand.roll()\n",
    "            for x in range(2):\n",
    "                for t_player in self.players:\n",
    "                    #print(t_player.prompt_for_reroll())\n",
    "                    print(f\"{t_player.name} roll: {t_player.hand}\")\n",
    "                    t_player.hand.reroll(t_player.prompt_for_reroll())\n",
    "                    print(f\"{t_player.name} after reroll: {t_player.hand}\")\n",
    "            rank_1 = self.players[0].hand.rank()\n",
    "            rank_2 = self.players[1].hand.rank()\n",
    "            print(f\"{self.players[0]} {self.players[0].hand.rank()}\")\n",
    "            print(f\"{self.players[1]} {self.players[1].hand.rank()}\")\n",
    "            order = [\"has nothing\", \"has one pair\", \"has two pairs\", \"has three of a kind\", \"has short straight\", \"has straight\", \"has full house\", \"has four of a kind\", \"has five of a kind\"]\n",
    "            if order.index(rank_1) > order.index(rank_2):\n",
    "                print(f\"{self.players[0]} WIN!\")\n",
    "            elif order.index(rank_1) < order.index(rank_2):\n",
    "                print(f\"{self.players[1]} WIN!\")\n",
    "            else:\n",
    "                print(\"It is a tie!\")\n",
    "            replay = input(\"Play again? y/n\")\n",
    "        print(\"GAME OVER!\")"
   ]
  },
  {
   "cell_type": "code",
   "execution_count": null,
   "metadata": {
    "collapsed": false,
    "deletable": false,
    "editable": false,
    "nbgrader": {
     "grade": true,
     "grade_id": "5eefb8",
     "locked": true,
     "points": 1,
     "schema_version": 3,
     "solution": false,
     "task": false
    }
   },
   "outputs": [],
   "source": [
    "# Check that __init__ does what it is supposed to\n",
    "from nose.tools import assert_equal\n",
    "g = Game()\n",
    "assert_equal(g.players[0].name, \"Player 1\")\n",
    "assert_equal(g.players[1].name, \"Player 2\")"
   ]
  },
  {
   "cell_type": "markdown",
   "metadata": {
    "collapsed": false,
    "deletable": false,
    "editable": false,
    "nbgrader": {
     "grade": false,
     "grade_id": "72f680",
     "locked": true,
     "schema_version": 3,
     "solution": false,
     "task": false
    }
   },
   "source": [
    "## Time to play!\n"
   ]
  },
  {
   "cell_type": "code",
   "execution_count": null,
   "metadata": {
    "cocalc": {
     "outputs": {
      "0": {
       "name": "input",
       "opts": {
        "password": false,
        "prompt": "Player 1, enter the dice to reroll (e.g., '134') or p to pass: "
       },
       "output_type": "stream"
      },
      "1": {
       "name": "input",
       "opts": {
        "password": false,
        "prompt": "Player 1, enter the dice to reroll (e.g., '134') or p to pass: "
       },
       "output_type": "stream",
       "value": "234"
      },
      "2": {
       "name": "input",
       "opts": {
        "password": false,
        "prompt": "Player 2, enter the dice to reroll (e.g., '134') or p to pass: "
       },
       "output_type": "stream"
      },
      "3": {
       "name": "input",
       "opts": {
        "password": false,
        "prompt": "Player 2, enter the dice to reroll (e.g., '134') or p to pass: "
       },
       "output_type": "stream",
       "value": "1234"
      },
      "4": {
       "name": "input",
       "opts": {
        "password": false,
        "prompt": "Player 1, enter the dice to reroll (e.g., '134') or p to pass: "
       },
       "output_type": "stream"
      },
      "5": {
       "name": "input",
       "opts": {
        "password": false,
        "prompt": "Player 1, enter the dice to reroll (e.g., '134') or p to pass: "
       },
       "output_type": "stream",
       "value": "145"
      },
      "6": {
       "name": "input",
       "opts": {
        "password": false,
        "prompt": "Player 2, enter the dice to reroll (e.g., '134') or p to pass: "
       },
       "output_type": "stream"
      },
      "7": {
       "name": "input",
       "opts": {
        "password": false,
        "prompt": "Player 2, enter the dice to reroll (e.g., '134') or p to pass: "
       },
       "output_type": "stream",
       "value": "1234"
      },
      "8": {
       "name": "input",
       "opts": {
        "password": false,
        "prompt": "Play again? y/n"
       },
       "output_type": "stream"
      },
      "9": {
       "name": "input",
       "opts": {
        "password": false,
        "prompt": "Play again? y/n"
       },
       "output_type": "stream",
       "value": "n"
      },
      "10": {
       "name": "input",
       "opts": {
        "password": false,
        "prompt": "Player 1, enter the dice to reroll (e.g., '134') or p to pass: "
       },
       "output_type": "stream"
      },
      "13": {
       "name": "input",
       "opts": {
        "password": false,
        "prompt": "Player 2, enter the dice to reroll (e.g., '134') or p to pass: "
       },
       "output_type": "stream",
       "value": "23"
      },
      "14": {
       "name": "input",
       "opts": {
        "password": false,
        "prompt": "Player 1, enter the dice to reroll (e.g., '134') or p to pass: "
       },
       "output_type": "stream"
      },
      "17": {
       "name": "input",
       "opts": {
        "password": false,
        "prompt": "Player 2, enter the dice to reroll (e.g., '134') or p to pass: "
       },
       "output_type": "stream",
       "value": "23"
      },
      "19": {
       "name": "input",
       "opts": {
        "password": false,
        "prompt": "Play again? y/n"
       },
       "output_type": "stream",
       "value": "n"
      }
     }
    },
    "collapsed": false,
    "scrolled": true
   },
   "outputs": [],
   "source": [
    "g = Game()\n",
    "g.play()"
   ]
  }
 ],
 "metadata": {
  "kernelspec": {
   "display_name": "Python 3",
   "language": "python",
   "name": "python3"
  },
  "language_info": {
   "codemirror_mode": {
    "name": "ipython",
    "version": 3
   },
   "file_extension": ".py",
   "mimetype": "text/x-python",
   "name": "python",
   "nbconvert_exporter": "python",
   "pygments_lexer": "ipython3",
   "version": "3.11.1"
  },
  "vscode": {
   "interpreter": {
    "hash": "f3af051ccc16277f38a49d9d6761e89433bf087c92cbe6406261e9c3be520072"
   }
  }
 },
 "nbformat": 4,
 "nbformat_minor": 4
}
