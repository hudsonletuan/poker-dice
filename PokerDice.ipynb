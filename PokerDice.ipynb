{
 "cells": [
  {
   "cell_type": "markdown",
   "metadata": {
    "collapsed": false,
    "deletable": false,
    "editable": false,
    "nbgrader": {
     "grade": false,
     "grade_id": "7705aa",
     "locked": true,
     "schema_version": 3,
     "solution": false,
     "task": false
    }
   },
   "source": [
    "# HOMEWORK 1: Poker Dice\n",
    "\n",
    "## STOP\n",
    "\n",
    "Before you begin this, your notebooks in `csc152/MSDie` and `csc152/PokerDice-inclass` should validate completely.\n",
    "\n",
    "## General instructions\n",
    "\n",
    "Start early and leave yourself plenty of time to have ideas. Your subconscious\n",
    "is a magician, but as Raymond Chandler says, it won't work regular hours. You\n",
    "also should leave enough time to get help. You are still a relative beginner in\n",
    "Python, and if you are really stuck, you should ask me for help. Usually a quick\n",
    "conversation can get you pointed in the right direction. Homework help should\n",
    "happen outside of class. It isn't a tricky program to write, necessarily, but if\n",
    "you are rushing to do it all the night before, it just takes one weird bug to\n",
    "bring all your progress to a screeching halt. I'd much rather help you learn\n",
    "what caused the error and you be able to move on.\n",
    "\n",
    "Beyond that, try your best to follow all the specifications in the docstrings.\n",
    "You can add more methods and so on if it seems necessary, but it's possible to\n",
    "finish the assignment with only what is specified. If *your* solution needs\n",
    "more, then add it!\n",
    "\n",
    "## Game mechanics\n",
    "\n",
    "The rules of Poker Dice have been described in the `PokerDice-inclass` notebook.\n",
    "They are repeated here for your convenience. In the game of Poker Dice, two\n",
    "players each roll a hand of five standard (cubical or d6) dice. The goal is to\n",
    "have the highest ranking hand. Hand ranks are as follows, from low to high.\n",
    "\n",
    "0. Nothing\n",
    "2. One pair\n",
    "3. Two pair (but not a full house)\n",
    "4. Three of a kind (without an accompanying pair)\n",
    "5. Short straight (either 1, 2, 3, 4 or 2, 3, 4, 5 or 3, 4, 5, 6 (other value \n",
    "    irrelevant))\n",
    "6. Straight (either 1, 2, 3, 4, 5 or 2, 3, 4, 5, 6)\n",
    "7. Full house (three of a kind plus one pair)\n",
    "8. Four of a kind (other value irrelevant)\n",
    "9. Five of a kind\n",
    "\n",
    "After the initial roll, each player may reroll *any of the dice* in their hand\n",
    "(whichever ones they choose). There are two rounds of rerolls and then the\n",
    "highest hand wins."
   ]
  },
  {
   "cell_type": "markdown",
   "metadata": {
    "collapsed": false,
    "deletable": false,
    "editable": false,
    "nbgrader": {
     "grade": false,
     "grade_id": "da2d68",
     "locked": true,
     "schema_version": 3,
     "solution": false,
     "task": false
    }
   },
   "source": [
    "## Setup\n",
    "\n",
    "Find the file in this folder called `PokerDiceHand.py`. Copy the `MSDie`,\n",
    "`Hand`, and `PokerDiceHand` classes you made before into this file: all three\n",
    "classes in one file. Make sure the indentation is correct when you are done\n",
    "pasting. The tests in the cell below will make sure the classes can all be\n",
    "`import`ed from this file. The tests will fail unless the classes are all valid.\n",
    "\n",
    "Also, make one change to the `PokerDiceHand` class: reorder the encoding of the\n",
    "`rank()` method so that it matches the table shown above (numbered from 0 to 8\n",
    "in ascending order). This will make comparing the hands more elegant and less\n",
    "confusing.\n",
    "\n",
    "In this file, you'll complete the `Player` and `Game` classes that let\n",
    "two players play the game. You do not need to perform any kind of validation of\n",
    "the user's inputs. If they make a mistake, that's on them."
   ]
  },
  {
   "cell_type": "code",
   "execution_count": 1,
   "metadata": {
    "collapsed": false,
    "deletable": false,
    "editable": false,
    "nbgrader": {
     "grade": true,
     "grade_id": "89aa20",
     "locked": true,
     "points": 1,
     "remove": false,
     "schema_version": 3,
     "solution": false,
     "task": false
    }
   },
   "outputs": [
    {
     "data": {
      "text/plain": [
       "MSDie(6) : 3, MSDie(6) : 1, MSDie(6) : 1, MSDie(6) : 4, MSDie(6) : 3"
      ]
     },
     "execution_count": 1,
     "metadata": {
     },
     "output_type": "execute_result"
    }
   ],
   "source": [
    "import os.path\n",
    "assert(os.path.isfile(\"PokerDiceHand.py\"))\n",
    "\n",
    "from PokerDiceHand import MSDie\n",
    "from PokerDiceHand import Hand\n",
    "from PokerDiceHand import PokerDiceHand\n",
    "\n",
    "MSDie(6) # Constructor will raise exception if class is ill-defined\n",
    "Hand(6, 6)\n",
    "PokerDiceHand()"
   ]
  },
  {
   "cell_type": "code",
   "execution_count": 2,
   "metadata": {
    "collapsed": false,
    "deletable": false,
    "nbgrader": {
     "checksum": "e4a53ab205d7fa616629e81923eb8b59",
     "grade": false,
     "grade_id": "d6358a",
     "locked": false,
     "schema_version": 3,
     "solution": true,
     "task": false
    }
   },
   "outputs": [
   ],
   "source": [
    "class Player(PokerDiceHand):\n",
    "    def __init__(self, name):\n",
    "        \"\"\"\n",
    "        Initializes the player's PokerDiceHand (self.hand) and name (self.name).\n",
    "        \"\"\"\n",
    "        # YOUR CODE HERE\n",
    "        self.hand = PokerDiceHand()\n",
    "        self.name = name\n",
    "        \n",
    "    def __str__(self):\n",
    "        \"\"\"\n",
    "        Return a string representation of the player's hand. Specifically, returns\n",
    "        a string containing an announcement, followed by the 5 values, separated \n",
    "        by spaces: \"Player 1's hand: 1 3 5 4 2\", e.g. Use the player's name in the\n",
    "        announcement.\n",
    "        \"\"\"\n",
    "        # YOUR CODE HERE\n",
    "        return f\"{self.name}'s hand: {self.hand}\"\n",
    "        \n",
    "    def prompt_for_reroll(self):\n",
    "        \"\"\"\n",
    "        Prompt the user for input to determine if a reroll will occur. The prompt\n",
    "        string should look like:\n",
    "        \"Player 1, enter the dice to reroll (e.g., '134') or p to pass: \"\n",
    "        Make sure to use the player's name and to leave one space inside the string\n",
    "        after the `:`. \n",
    "        \n",
    "        Return a list of the values the player entered, but as `int`s, not `str`s.\n",
    "        If the player chooses `p` to pass, return None.\n",
    "        \"\"\"\n",
    "        # YOUR CODE HERE\n",
    "        choice = input(f\"{self.name}, enter the dice to reroll (e.g., '134') or p to pass: \")\n",
    "        list(choice)\n",
    "        lst = []\n",
    "        if choice.lower() != \"p\":\n",
    "            for i in choice:\n",
    "                lst.append(int(i))\n",
    "        return lst\n",
    "#            return [int(i) for i in choice]"
   ]
  },
  {
   "cell_type": "code",
   "execution_count": 3,
   "metadata": {
    "collapsed": false,
    "deletable": false,
    "editable": false,
    "nbgrader": {
     "grade": true,
     "grade_id": "d90c36",
     "locked": true,
     "points": 1,
     "schema_version": 3,
     "solution": false,
     "task": false
    }
   },
   "outputs": [
   ],
   "source": [
    "# Check that __init__ does what it is supposed to do.\n",
    "from nose.tools import assert_equal\n",
    "p = Player(\"Philip J. Fry\")\n",
    "assert_equal(type(p.hand), type(PokerDiceHand()))\n",
    "assert_equal(p.name, \"Philip J. Fry\")\n",
    "\n",
    "# Check that show_hand does what it is supposed to do.\n",
    "dice = [MSDie(6) for _ in range(5)]\n",
    "values = [5, 6, 2, 3, 3]\n",
    "for i, x in enumerate(dice):\n",
    "    x.current_value = values[i]\n",
    "p.hand.dice = dice\n",
    "assert_equal(str(p), f\"Philip J. Fry's hand: {p.hand}\")"
   ]
  },
  {
   "cell_type": "code",
   "execution_count": 4,
   "metadata": {
    "collapsed": false,
    "deletable": false,
    "nbgrader": {
     "checksum": "c55caa0f5f82ffe7859cda786231b51d",
     "grade": false,
     "grade_id": "a39a42",
     "locked": false,
     "schema_version": 3,
     "solution": true,
     "task": false
    }
   },
   "outputs": [
   ],
   "source": [
    "class Game():\n",
    "\n",
    "    def __init__(self):\n",
    "        \"\"\"\n",
    "        Setup a Game object. The Game object has just one attribute,\n",
    "        self.players. This is a list containing two Player objects, representing\n",
    "        the two players of the game. We could just have the players separately,\n",
    "        but in coding the rest of the class, it's convenient to have a list. Name\n",
    "        the two players \"Player 1\" and \"Player 2\".\n",
    "        \n",
    "        Notice that when the Player objects are created, the Player class's constructor\n",
    "        (which you already wrote in the cell above) generates their PokerDiceHands, so\n",
    "        you don't need to do that here.\n",
    "        \"\"\"\n",
    "        # YOUR CODE HERE\n",
    "        self.players = [Player(\"Player 1\"), Player(\"Player 2\")]\n",
    "\n",
    "    def play(self):\n",
    "        \"\"\"\n",
    "        NOTE: There is no testing provided for this method. Your code will be manually\n",
    "        graded only. This method returns no value.\n",
    "\n",
    "        This method manages the game: printing appropriate messages to the\n",
    "        screen, keeping track of rerolls (which it receives from the Player objects),\n",
    "        delegating the rerolls to the PokerDiceHand objects, fetching the ranks of\n",
    "        the PokerDiceHand objects, comparing them, and announcing the results. It \n",
    "        should allow the users to play more games indefinitely, so use a `while` loop \n",
    "        to keep starting new games until the answer to the \"Play again?\" prompt is 'n'.\n",
    "        (Consult the sample output for reference.)\n",
    "        \"\"\"\n",
    "        # YOUR CODE HERE\n",
    "        replay = \"y\"\n",
    "        while replay == \"y\":\n",
    "            self.players[0].hand.roll()\n",
    "            self.players[1].hand.roll()\n",
    "            for x in range(2):\n",
    "                for t_player in self.players:\n",
    "                    #print(t_player.prompt_for_reroll())\n",
    "                    print(f\"{t_player.name} roll: {t_player.hand}\")\n",
    "                    t_player.hand.reroll(t_player.prompt_for_reroll())\n",
    "                    print(f\"{t_player.name} after reroll: {t_player.hand}\")\n",
    "            rank_1 = self.players[0].hand.rank()\n",
    "            rank_2 = self.players[1].hand.rank()\n",
    "            print(f\"{self.players[0]} {self.players[0].hand.rank()}\")\n",
    "            print(f\"{self.players[1]} {self.players[1].hand.rank()}\")\n",
    "            order = [\"has nothing\", \"has one pair\", \"has two pairs\", \"has three of a kind\", \"has short straight\", \"has straight\", \"has full house\", \"has four of a kind\", \"has five of a kind\"]\n",
    "            if order.index(rank_1) > order.index(rank_2):\n",
    "                print(f\"{self.players[0]} WIN!\")\n",
    "            elif order.index(rank_1) < order.index(rank_2):\n",
    "                print(f\"{self.players[1]} WIN!\")\n",
    "            else:\n",
    "                print(\"It is a tie!\")\n",
    "            replay = input(\"Play again? y/n\")\n",
    "        print(\"GAME OVER!\")"
   ]
  },
  {
   "cell_type": "code",
   "execution_count": 5,
   "metadata": {
    "collapsed": false,
    "deletable": false,
    "editable": false,
    "nbgrader": {
     "grade": true,
     "grade_id": "5eefb8",
     "locked": true,
     "points": 1,
     "schema_version": 3,
     "solution": false,
     "task": false
    }
   },
   "outputs": [
   ],
   "source": [
    "# Check that __init__ does what it is supposed to\n",
    "from nose.tools import assert_equal\n",
    "g = Game()\n",
    "assert_equal(g.players[0].name, \"Player 1\")\n",
    "assert_equal(g.players[1].name, \"Player 2\")"
   ]
  },
  {
   "cell_type": "markdown",
   "metadata": {
    "collapsed": false,
    "deletable": false,
    "editable": false,
    "nbgrader": {
     "grade": false,
     "grade_id": "72f680",
     "locked": true,
     "schema_version": 3,
     "solution": false,
     "task": false
    }
   },
   "source": [
    "## Time to play!\n",
    "\n",
    "Test your game by playing it! Use the cell below.\n",
    "\n",
    "**NOTE:** The notebook interface may jumble\n",
    "input and output somewhat. I'm not sure why. Usually it works fine, but lines\n",
    "sometimes appear in a different order\n",
    "than expected. Once you think everything else is working correctly, I will be\n",
    "happy to check your output code for you before you hand it in. (We should do\n",
    "that outside of class.)"
   ]
  },
  {
   "cell_type": "code",
   "execution_count": 6,
   "metadata": {
    "cocalc": {
     "outputs": {
      "0": {
       "name": "input",
       "opts": {
        "password": false,
        "prompt": "Player 1, enter the dice to reroll (e.g., '134') or p to pass: "
       },
       "output_type": "stream"
      },
      "1": {
       "name": "input",
       "opts": {
        "password": false,
        "prompt": "Player 1, enter the dice to reroll (e.g., '134') or p to pass: "
       },
       "output_type": "stream",
       "value": "234"
      },
      "10": {
       "name": "input",
       "opts": {
        "password": false,
        "prompt": "Player 1, enter the dice to reroll (e.g., '134') or p to pass: "
       },
       "output_type": "stream"
      },
      "13": {
       "name": "input",
       "opts": {
        "password": false,
        "prompt": "Player 2, enter the dice to reroll (e.g., '134') or p to pass: "
       },
       "output_type": "stream",
       "value": "23"
      },
      "14": {
       "name": "input",
       "opts": {
        "password": false,
        "prompt": "Player 1, enter the dice to reroll (e.g., '134') or p to pass: "
       },
       "output_type": "stream"
      },
      "17": {
       "name": "input",
       "opts": {
        "password": false,
        "prompt": "Player 2, enter the dice to reroll (e.g., '134') or p to pass: "
       },
       "output_type": "stream",
       "value": "23"
      },
      "19": {
       "name": "input",
       "opts": {
        "password": false,
        "prompt": "Play again? y/n"
       },
       "output_type": "stream",
       "value": "n"
      },
      "2": {
       "name": "input",
       "opts": {
        "password": false,
        "prompt": "Player 2, enter the dice to reroll (e.g., '134') or p to pass: "
       },
       "output_type": "stream"
      },
      "3": {
       "name": "input",
       "opts": {
        "password": false,
        "prompt": "Player 2, enter the dice to reroll (e.g., '134') or p to pass: "
       },
       "output_type": "stream",
       "value": "1234"
      },
      "4": {
       "name": "input",
       "opts": {
        "password": false,
        "prompt": "Player 1, enter the dice to reroll (e.g., '134') or p to pass: "
       },
       "output_type": "stream"
      },
      "5": {
       "name": "input",
       "opts": {
        "password": false,
        "prompt": "Player 1, enter the dice to reroll (e.g., '134') or p to pass: "
       },
       "output_type": "stream",
       "value": "145"
      },
      "6": {
       "name": "input",
       "opts": {
        "password": false,
        "prompt": "Player 2, enter the dice to reroll (e.g., '134') or p to pass: "
       },
       "output_type": "stream"
      },
      "7": {
       "name": "input",
       "opts": {
        "password": false,
        "prompt": "Player 2, enter the dice to reroll (e.g., '134') or p to pass: "
       },
       "output_type": "stream",
       "value": "1234"
      },
      "8": {
       "name": "input",
       "opts": {
        "password": false,
        "prompt": "Play again? y/n"
       },
       "output_type": "stream"
      },
      "9": {
       "name": "input",
       "opts": {
        "password": false,
        "prompt": "Play again? y/n"
       },
       "output_type": "stream",
       "value": "n"
      }
     }
    },
    "collapsed": false,
    "scrolled": true
   },
   "outputs": [
    {
     "name": "stdout",
     "output_type": "stream",
     "text": [
      "Player 1 roll: 5 4 3 2 4\n"
     ]
    },
    {
     "name": "stdout",
     "output_type": "stream",
     "text": "Player 1, enter the dice to reroll (e.g., '134') or p to pass:  234"
    },
    {
     "name": "stdout",
     "output_type": "stream",
     "text": [
      "Player 1 after reroll: 5 6 6 1 4\n",
      "Player 2 roll: 4 5 5 5 6\n"
     ]
    },
    {
     "name": "stdout",
     "output_type": "stream",
     "text": "Player 2, enter the dice to reroll (e.g., '134') or p to pass:  1234"
    },
    {
     "name": "stdout",
     "output_type": "stream",
     "text": [
      "Player 2 after reroll: 1 3 1 1 6\n",
      "Player 1 roll: 5 6 6 1 4\n"
     ]
    },
    {
     "name": "stdout",
     "output_type": "stream",
     "text": "Player 1, enter the dice to reroll (e.g., '134') or p to pass:  145"
    },
    {
     "name": "stdout",
     "output_type": "stream",
     "text": [
      "Player 1 after reroll: 5 6 6 6 6\n",
      "Player 2 roll: 1 3 1 1 6\n"
     ]
    },
    {
     "name": "stdout",
     "output_type": "stream",
     "text": "Player 2, enter the dice to reroll (e.g., '134') or p to pass:  1234"
    },
    {
     "name": "stdout",
     "output_type": "stream",
     "text": "Play again? y/n "
    },
    {
     "name": "stdout",
     "output_type": "stream",
     "text": [
      "Player 2 after reroll: 4 6 5 3 6\n",
      "Player 1's hand: 5 6 6 6 6 has four of a kind\n",
      "Player 2's hand: 4 6 5 3 6 has short straight\n",
      "Player 1's hand: 5 6 6 6 6 WIN!\n"
     ]
    },
    {
     "ename": "KeyboardInterrupt",
     "evalue": "Interrupted by user",
     "output_type": "error",
     "traceback": [
      "\u001b[0;31m---------------------------------------------------------------------------\u001b[0m",
      "\u001b[0;31mKeyboardInterrupt\u001b[0m                         Traceback (most recent call last)",
      "\u001b[0;32m/tmp/ipykernel_499/2954219454.py\u001b[0m in \u001b[0;36m<cell line: 2>\u001b[0;34m()\u001b[0m\n\u001b[1;32m      1\u001b[0m \u001b[0mg\u001b[0m \u001b[0;34m=\u001b[0m \u001b[0mGame\u001b[0m\u001b[0;34m(\u001b[0m\u001b[0;34m)\u001b[0m\u001b[0;34m\u001b[0m\u001b[0;34m\u001b[0m\u001b[0m\n\u001b[0;32m----> 2\u001b[0;31m \u001b[0mg\u001b[0m\u001b[0;34m.\u001b[0m\u001b[0mplay\u001b[0m\u001b[0;34m(\u001b[0m\u001b[0;34m)\u001b[0m\u001b[0;34m\u001b[0m\u001b[0;34m\u001b[0m\u001b[0m\n\u001b[0m",
      "\u001b[0;32m/tmp/ipykernel_499/925456380.py\u001b[0m in \u001b[0;36mplay\u001b[0;34m(self)\u001b[0m\n\u001b[1;32m     51\u001b[0m             \u001b[0;32melse\u001b[0m\u001b[0;34m:\u001b[0m\u001b[0;34m\u001b[0m\u001b[0;34m\u001b[0m\u001b[0m\n\u001b[1;32m     52\u001b[0m                 \u001b[0mprint\u001b[0m\u001b[0;34m(\u001b[0m\u001b[0;34m\"It is a tie!\"\u001b[0m\u001b[0;34m)\u001b[0m\u001b[0;34m\u001b[0m\u001b[0;34m\u001b[0m\u001b[0m\n\u001b[0;32m---> 53\u001b[0;31m             \u001b[0mreplay\u001b[0m \u001b[0;34m=\u001b[0m \u001b[0minput\u001b[0m\u001b[0;34m(\u001b[0m\u001b[0;34m\"Play again? y/n\"\u001b[0m\u001b[0;34m)\u001b[0m\u001b[0;34m\u001b[0m\u001b[0;34m\u001b[0m\u001b[0m\n\u001b[0m\u001b[1;32m     54\u001b[0m         \u001b[0mprint\u001b[0m\u001b[0;34m(\u001b[0m\u001b[0;34m\"GAME OVER!\"\u001b[0m\u001b[0;34m)\u001b[0m\u001b[0;34m\u001b[0m\u001b[0;34m\u001b[0m\u001b[0m\n",
      "\u001b[0;32m/usr/local/lib/python3.8/dist-packages/ipykernel/kernelbase.py\u001b[0m in \u001b[0;36mraw_input\u001b[0;34m(self, prompt)\u001b[0m\n\u001b[1;32m   1173\u001b[0m                 \u001b[0;34m\"raw_input was called, but this frontend does not support input requests.\"\u001b[0m\u001b[0;34m\u001b[0m\u001b[0;34m\u001b[0m\u001b[0m\n\u001b[1;32m   1174\u001b[0m             )\n\u001b[0;32m-> 1175\u001b[0;31m         return self._input_request(\n\u001b[0m\u001b[1;32m   1176\u001b[0m             \u001b[0mstr\u001b[0m\u001b[0;34m(\u001b[0m\u001b[0mprompt\u001b[0m\u001b[0;34m)\u001b[0m\u001b[0;34m,\u001b[0m\u001b[0;34m\u001b[0m\u001b[0;34m\u001b[0m\u001b[0m\n\u001b[1;32m   1177\u001b[0m             \u001b[0mself\u001b[0m\u001b[0;34m.\u001b[0m\u001b[0m_parent_ident\u001b[0m\u001b[0;34m[\u001b[0m\u001b[0;34m\"shell\"\u001b[0m\u001b[0;34m]\u001b[0m\u001b[0;34m,\u001b[0m\u001b[0;34m\u001b[0m\u001b[0;34m\u001b[0m\u001b[0m\n",
      "\u001b[0;32m/usr/local/lib/python3.8/dist-packages/ipykernel/kernelbase.py\u001b[0m in \u001b[0;36m_input_request\u001b[0;34m(self, prompt, ident, parent, password)\u001b[0m\n\u001b[1;32m   1215\u001b[0m             \u001b[0;32mexcept\u001b[0m \u001b[0mKeyboardInterrupt\u001b[0m\u001b[0;34m:\u001b[0m\u001b[0;34m\u001b[0m\u001b[0;34m\u001b[0m\u001b[0m\n\u001b[1;32m   1216\u001b[0m                 \u001b[0;31m# re-raise KeyboardInterrupt, to truncate traceback\u001b[0m\u001b[0;34m\u001b[0m\u001b[0;34m\u001b[0m\u001b[0;34m\u001b[0m\u001b[0m\n\u001b[0;32m-> 1217\u001b[0;31m                 \u001b[0;32mraise\u001b[0m \u001b[0mKeyboardInterrupt\u001b[0m\u001b[0;34m(\u001b[0m\u001b[0;34m\"Interrupted by user\"\u001b[0m\u001b[0;34m)\u001b[0m \u001b[0;32mfrom\u001b[0m \u001b[0;32mNone\u001b[0m\u001b[0;34m\u001b[0m\u001b[0;34m\u001b[0m\u001b[0m\n\u001b[0m\u001b[1;32m   1218\u001b[0m             \u001b[0;32mexcept\u001b[0m \u001b[0mException\u001b[0m\u001b[0;34m:\u001b[0m\u001b[0;34m\u001b[0m\u001b[0;34m\u001b[0m\u001b[0m\n\u001b[1;32m   1219\u001b[0m                 \u001b[0mself\u001b[0m\u001b[0;34m.\u001b[0m\u001b[0mlog\u001b[0m\u001b[0;34m.\u001b[0m\u001b[0mwarning\u001b[0m\u001b[0;34m(\u001b[0m\u001b[0;34m\"Invalid Message:\"\u001b[0m\u001b[0;34m,\u001b[0m \u001b[0mexc_info\u001b[0m\u001b[0;34m=\u001b[0m\u001b[0;32mTrue\u001b[0m\u001b[0;34m)\u001b[0m\u001b[0;34m\u001b[0m\u001b[0;34m\u001b[0m\u001b[0m\n",
      "\u001b[0;31mKeyboardInterrupt\u001b[0m: Interrupted by user"
     ]
    }
   ],
   "source": [
    "g = Game()\n",
    "g.play()"
   ]
  },
  {
   "cell_type": "markdown",
   "metadata": {
    "collapsed": false,
    "deletable": false,
    "editable": false,
    "nbgrader": {
     "grade": false,
     "grade_id": "63ed6a",
     "locked": true,
     "schema_version": 3,
     "solution": false,
     "task": false
    }
   },
   "source": [
    "## Bonus challenges (for glory, not checks)\n",
    "\n",
    "* Modify the `Game` class so that during setup, the players can enter their names.\n",
    "* Implement the original rules, which only allow for four dice to be rerolled at once.\n",
    "  The player should be repeatedly prompted to enter their reroll until they enter\n",
    "  four or fewer positions.\n",
    "* Implement tie-breaking for all ranks. Not all pairs are equal: a high pair should \n",
    "  beat a low pair.\n",
    "  If you are really curious about this you might want to research how ties are resolved\n",
    "  in (ordinary) poker as played with cards."
   ]
  }
 ],
 "metadata": {
  "kernelspec": {
   "argv": [
    "/usr/bin/python3",
    "-m",
    "ipykernel",
    "--HistoryManager.enabled=False",
    "--matplotlib=inline",
    "-c",
    "%config InlineBackend.figure_formats = set(['retina'])\nimport matplotlib; matplotlib.rcParams['figure.figsize'] = (12, 7)",
    "-f",
    "{connection_file}"
   ],
   "display_name": "Python 3 (system-wide)",
   "env": {
   },
   "language": "python",
   "metadata": {
    "cocalc": {
     "description": "Python 3 programming language",
     "priority": 100,
     "url": "https://www.python.org/"
    }
   },
   "name": "python3",
   "resource_dir": "/ext/jupyter/kernels/python3"
  },
  "language_info": {
   "codemirror_mode": {
    "name": "ipython",
    "version": 3
   },
   "file_extension": ".py",
   "mimetype": "text/x-python",
   "name": "python",
   "nbconvert_exporter": "python",
   "pygments_lexer": "ipython3",
   "version": "3.8.10"
  }
 },
 "nbformat": 4,
 "nbformat_minor": 4
}